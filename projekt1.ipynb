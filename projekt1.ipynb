{
  "cells": [
    {
      "metadata": {
        "trusted": true
      },
      "cell_type": "code",
      "source": "import pandas as pd\nimport numpy as np",
      "execution_count": 3,
      "outputs": []
    },
    {
      "metadata": {
        "trusted": true
      },
      "cell_type": "code",
      "source": "recipeData = pd.read_csv(\"recipeData.csv\", encoding=\"ISO-8859-1\")",
      "execution_count": 8,
      "outputs": []
    },
    {
      "metadata": {
        "trusted": true
      },
      "cell_type": "code",
      "source": "recipeData.head()",
      "execution_count": 9,
      "outputs": [
        {
          "output_type": "execute_result",
          "execution_count": 9,
          "data": {
            "text/html": "<div>\n<style scoped>\n    .dataframe tbody tr th:only-of-type {\n        vertical-align: middle;\n    }\n\n    .dataframe tbody tr th {\n        vertical-align: top;\n    }\n\n    .dataframe thead th {\n        text-align: right;\n    }\n</style>\n<table border=\"1\" class=\"dataframe\">\n  <thead>\n    <tr style=\"text-align: right;\">\n      <th></th>\n      <th>Name;URL;Style;StyleID;Size(L);OG;FG;ABV;IBU;Color;BoilSize;BoilTime;BoilGravity;Efficiency;MashThickness;SugarScale;BrewMethod;PitchRate;PrimaryTemp;PrimingMethod;PrimingAmount;UserId</th>\n    </tr>\n  </thead>\n  <tbody>\n    <tr>\n      <th>0</th>\n      <td>Vanilla Cream Ale;/homebrew/recipe/view/1633/v...</td>\n    </tr>\n    <tr>\n      <th>1</th>\n      <td>Southern Tier Pumking clone;/homebrew/recipe/v...</td>\n    </tr>\n    <tr>\n      <th>2</th>\n      <td>Zombie Dust Clone - EXTRACT;/homebrew/recipe/v...</td>\n    </tr>\n    <tr>\n      <th>3</th>\n      <td>Zombie Dust Clone - ALL GRAIN;/homebrew/recipe...</td>\n    </tr>\n    <tr>\n      <th>4</th>\n      <td>Bakke Brygg Belgisk Blonde 50 l;/homebrew/reci...</td>\n    </tr>\n  </tbody>\n</table>\n</div>",
            "text/plain": "  Name;URL;Style;StyleID;Size(L);OG;FG;ABV;IBU;Color;BoilSize;BoilTime;BoilGravity;Efficiency;MashThickness;SugarScale;BrewMethod;PitchRate;PrimaryTemp;PrimingMethod;PrimingAmount;UserId\n0  Vanilla Cream Ale;/homebrew/recipe/view/1633/v...                                                                                                                                      \n1  Southern Tier Pumking clone;/homebrew/recipe/v...                                                                                                                                      \n2  Zombie Dust Clone - EXTRACT;/homebrew/recipe/v...                                                                                                                                      \n3  Zombie Dust Clone - ALL GRAIN;/homebrew/recipe...                                                                                                                                      \n4  Bakke Brygg Belgisk Blonde 50 l;/homebrew/reci...                                                                                                                                      "
          },
          "metadata": {}
        }
      ]
    },
    {
      "metadata": {
        "trusted": true
      },
      "cell_type": "code",
      "source": "",
      "execution_count": null,
      "outputs": []
    }
  ],
  "metadata": {
    "kernelspec": {
      "name": "python36",
      "display_name": "Python 3.6",
      "language": "python"
    },
    "language_info": {
      "mimetype": "text/x-python",
      "nbconvert_exporter": "python",
      "name": "python",
      "pygments_lexer": "ipython3",
      "version": "3.6.6",
      "file_extension": ".py",
      "codemirror_mode": {
        "version": 3,
        "name": "ipython"
      }
    }
  },
  "nbformat": 4,
  "nbformat_minor": 2
}